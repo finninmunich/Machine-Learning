{
 "cells": [
  {
   "cell_type": "code",
   "execution_count": 57,
   "metadata": {
    "id": "c86wOaeLNe0d"
   },
   "outputs": [],
   "source": [
    "import copy\n",
    "import numpy as np\n",
    "import torch\n",
    "import torch.nn as nn\n",
    "import torch.nn.functional as F\n",
    "import torchvision\n",
    "import torchvision.transforms as transforms"
   ]
  },
  {
   "cell_type": "markdown",
   "metadata": {
    "id": "wnAtESiENe0i"
   },
   "source": [
    "# PyTorch\n",
    "In this notebook you will gain some hands-on experience with [PyTorch](https://pytorch.org/), one of the major frameworks for deep learning. To install PyTorch. follow [the official installation instructions](https://pytorch.org/get-started/locally/). Make sure that you select the correct OS & select the version with CUDA if your computer supports it.\n",
    "If you do not have an Nvidia GPU, you can install the CPU version by setting `CUDA` to `None`.\n",
    "However, in this case we recommend using [Google Colab](https://colab.research.google.com/).\n",
    "Make sure that you enable GPU acceleration in `Runtime > Change runtime type`.\n",
    "\n",
    "You will start by re-implementing some common features of deep neural networks (dropout and batch normalization) and then implement a very popular modern architecture for image classification (ResNet) and improve its training loop."
   ]
  },
  {
   "cell_type": "markdown",
   "metadata": {
    "id": "qZzL2XP8Ne0k"
   },
   "source": [
    "# 1. Dropout\n",
    "Dropout is a form of regularization for neural networks. It works by randomly setting activations (values) to 0, each one with equal probability `p`. The values are then scaled by a factor $\\frac{1}{1-p}$ to conserve their mean.\n",
    "\n",
    "Dropout effectively trains a pseudo-ensemble of models with stochastic gradient descent. During evaluation we want to use the full ensemble and therefore have to turn off dropout. Use `self.training` to check if the model is in training or evaluation mode.\n",
    "\n",
    "Do not use any dropout implementation from PyTorch for this!"
   ]
  },
  {
   "cell_type": "code",
   "execution_count": 58,
   "metadata": {
    "id": "fGDP-z1pNe0l"
   },
   "outputs": [],
   "source": [
    "class Dropout(nn.Module):\n",
    "    \"\"\"\n",
    "    Dropout, as discussed in the lecture and described here:\n",
    "    https://pytorch.org/docs/stable/nn.html#torch.nn.Dropout\n",
    "    \n",
    "    Args:\n",
    "        p: float, dropout probability\n",
    "    \"\"\"\n",
    "    def __init__(self, p):\n",
    "        super().__init__()\n",
    "        self.p = p\n",
    "        \n",
    "    def forward(self, input):\n",
    "        \"\"\"\n",
    "        The module's forward pass.\n",
    "        This has to be implemented for every PyTorch module.\n",
    "        PyTorch then automatically generates the backward pass\n",
    "        by dynamically generating the computational graph during\n",
    "        execution.\n",
    "        \n",
    "        Args:\n",
    "            input: PyTorch tensor, arbitrary shape\n",
    "\n",
    "        Returns:\n",
    "            PyTorch tensor, same shape as input\n",
    "        \"\"\"\n",
    "        \n",
    "        # TODO: Set values randomly to 0\n",
    "        for i in range(len(input)):\n",
    "            temp=np.random.random_sample()\n",
    "            if temp < self.p:\n",
    "                input[i]=0\n",
    "            else:\n",
    "                input[i]=input[i]/(1-self.p)\n",
    "        return input"
   ]
  },
  {
   "cell_type": "code",
   "execution_count": 59,
   "metadata": {
    "id": "8rxJdT6pNe0m"
   },
   "outputs": [],
   "source": [
    "# Test dropout\n",
    "test = torch.ones(10_000)\n",
    "dropout = Dropout(0.5)\n",
    "test_dropped = dropout(test)\n",
    "\n",
    "# These assertions can in principle fail due to bad luck, but\n",
    "# if implemented correctly they should almost always succeed.\n",
    "assert np.isclose(test_dropped.sum().item(), 10_000, atol=400)\n",
    "assert np.isclose((test_dropped > 0).sum().item(), 5_000, atol=200)"
   ]
  },
  {
   "cell_type": "markdown",
   "metadata": {
    "id": "N3eDB0aWNe0n"
   },
   "source": [
    "# 2. Batch normalization\n",
    "Batch normalization is a trick use to smoothen the loss landscape and improve training. It is defined as the function\n",
    "$$y = \\frac{x - \\mu_x}{\\sigma_x + \\epsilon} \\cdot \\gamma + \\beta$$,\n",
    "where $\\gamma$ and $\\beta$ and learnable parameters and $\\epsilon$ is a some small number to avoid dividing by zero. The Statistics $\\mu_x$ and $\\sigma_x$ are taken separately for each feature. In a CNN this means averaging over the batch and all pixels.\n",
    "\n",
    "Do not use any batch normalization implementation from PyTorch for this!"
   ]
  },
  {
   "cell_type": "code",
   "execution_count": 60,
   "metadata": {
    "id": "c__AEHGiNe0n"
   },
   "outputs": [],
   "source": [
    "class BatchNorm(nn.Module):\n",
    "    \"\"\"\n",
    "    Batch normalization, as discussed in the lecture and similar to\n",
    "    https://pytorch.org/docs/stable/nn.html#torch.nn.BatchNorm1d\n",
    "    \n",
    "    Only uses batch statistics (no running mean for evaluation).\n",
    "    Batch statistics are calculated for a single dimension.\n",
    "    Gamma is initialized as 1, beta as 0.\n",
    "    \n",
    "    Args:\n",
    "        num_features: Number of features to calculate batch statistics for.\n",
    "    \"\"\"\n",
    "    def __init__(self, num_features):\n",
    "        super().__init__()\n",
    "        \n",
    "        # TODO: Initialize the required parameters\n",
    "        self.gamma = nn.Parameter(torch.ones(num_features))\n",
    "        self.beta = nn.Parameter(torch.zeros(num_features))\n",
    "        \n",
    "    def forward(self, input):\n",
    "        \"\"\"\n",
    "        Batch normalization over the dimension C of (N, C, L).\n",
    "        \n",
    "        Args:\n",
    "            input: PyTorch tensor, shape [N, C, L]\n",
    "            \n",
    "        Return:\n",
    "            PyTorch tensor, same shape as input\n",
    "        \"\"\"\n",
    "        eps = 1e-5\n",
    "        \n",
    "        # TODO: Implement the required transformation\n",
    "        C=input.shape[1]\n",
    "        gamma=self.gamma.reshape(1,C,1)\n",
    "        beta=self.beta.reshape(1,C,1)\n",
    "        cmean=input.mean(axis=0,keepdims=True)\n",
    "        cmean=cmean.mean(axis=2,keepdims=True)\n",
    "        std=[]\n",
    "        for i in range(C):\n",
    "            temp=input[:,i,:].std()\n",
    "            std.append(temp)\n",
    "        cstd=torch.tensor(std).reshape(1,C,1)\n",
    "        input=(((input-cmean)/(cstd+eps))*gamma)+beta\n",
    "        return input"
   ]
  },
  {
   "cell_type": "code",
   "execution_count": 61,
   "metadata": {
    "id": "ANm1PzojNe0o"
   },
   "outputs": [],
   "source": [
    "# Tests the batch normalization implementation\n",
    "torch.random.manual_seed(42)\n",
    "test = torch.randn(8, 2, 4)\n",
    "\n",
    "b1 = BatchNorm(2)\n",
    "test_b1 = b1(test)\n",
    "\n",
    "b2 = nn.BatchNorm1d(2, affine=False, track_running_stats=False)\n",
    "test_b2 = b2(test)\n",
    "\n",
    "assert torch.allclose(test_b1, test_b2, rtol=0.02)"
   ]
  },
  {
   "cell_type": "markdown",
   "metadata": {
    "id": "FtCA_-GCNe0p"
   },
   "source": [
    "# 3. ResNet\n",
    "ResNet is the models that first introduced residual connections (a form of skip connections). It is a rather simple, but successful and very popular architecture. In this part of the exercise we will re-implement it step by step.\n",
    "\n",
    "Note that there is also an [improved version of ResNet](https://arxiv.org/abs/1603.05027) with optimized residual blocks. Here we will implement the [original version](https://arxiv.org/abs/1512.03385) for CIFAR-10. Your dropout and batchnorm implementations won't help you here. Just use PyTorch's own layers."
   ]
  },
  {
   "cell_type": "markdown",
   "metadata": {
    "id": "IIObRBr1Ne0r"
   },
   "source": [
    "This is just a convenience function to make e.g. `nn.Sequential` more flexible. It is e.g. useful in combination with `x.squeeze()`."
   ]
  },
  {
   "cell_type": "code",
   "execution_count": 62,
   "metadata": {
    "id": "Anq4-g3INe0r"
   },
   "outputs": [],
   "source": [
    "class Lambda(nn.Module):\n",
    "    def __init__(self, func):\n",
    "        super().__init__()\n",
    "        self.func = func\n",
    "\n",
    "    def forward(self, x):\n",
    "        return self.func(x)"
   ]
  },
  {
   "cell_type": "markdown",
   "metadata": {
    "id": "rkYYE6RiNe0x"
   },
   "source": [
    "We begin by implementing the residual blocks. The block is illustrated by this sketch:\n",
    "\n",
    "![Residual connection](img/residual_connection.png)\n",
    "\n",
    "Note that we use 'SAME' padding, no bias, and batch normalization after each convolution. You do not need `nn.Sequential` here. The skip connection is already implemented as `self.skip`. It can handle different strides and increases in the number of channels."
   ]
  },
  {
   "cell_type": "code",
   "execution_count": 63,
   "metadata": {
    "id": "b7RC-X7DNe0y"
   },
   "outputs": [],
   "source": [
    "class ResidualBlock(nn.Module):\n",
    "    \"\"\"\n",
    "    The residual block used by ResNet.\n",
    "    \n",
    "    Args:\n",
    "        in_channels: The number of channels (feature maps) of the incoming embedding\n",
    "        out_channels: The number of channels after the first convolution\n",
    "        stride: Stride size of the first convolution, used for downsampling\n",
    "    \"\"\"\n",
    "    \n",
    "    def __init__(self, in_channels, out_channels, stride=1):\n",
    "        super().__init__()        \n",
    "        if stride > 1 or in_channels != out_channels:\n",
    "            # Add strides in the skip connection and zeros for the new channels.\n",
    "            self.skip = Lambda(lambda x: F.pad(x[:, :, ::stride, ::stride],\n",
    "                                               (0, 0, 0, 0, 0, out_channels - in_channels),\n",
    "                                               mode=\"constant\", value=0))\n",
    "        else:\n",
    "            self.skip = nn.Sequential()\n",
    "            \n",
    "        # TODO: Initialize the required layers\n",
    "        self.conv1 = nn.Conv2d(in_channels, out_channels, kernel_size=3, stride=stride,padding=1,bias=False)\n",
    "        #self.bn1 = Batchnorm(out_channels)\n",
    "        self.bn1 = nn.BatchNorm2d(out_channels)\n",
    "        self.conv2 = nn.Conv2d(out_channels, out_channels, kernel_size=3, stride=1,padding=1,bias=False)\n",
    "        #self.bn2 = Batchnorm(out_channels)\n",
    "        self.bn2 = nn.BatchNorm2d(out_channels)\n",
    "    def forward(self, input):\n",
    "        # TODO: Execute the required layers and functions\n",
    "        xb = F.relu(self.bn1(self.conv1(input)))\n",
    "        xb = F.relu(self.bn2(self.conv2(xb)) + self.skip(input))\n",
    "        return xb"
   ]
  },
  {
   "cell_type": "markdown",
   "metadata": {
    "id": "xgv4JyDuNe1c"
   },
   "source": [
    "Next we implement a stack of residual blocks for convenience. The first layer in the block is the one changing the number of channels and downsampling. You can use `nn.ModuleList` to use a list of child modules."
   ]
  },
  {
   "cell_type": "code",
   "execution_count": 64,
   "metadata": {
    "id": "5y2CZmb5Ne1c"
   },
   "outputs": [],
   "source": [
    "class ResidualStack(nn.Module):\n",
    "    \"\"\"\n",
    "    A stack of residual blocks.\n",
    "    \n",
    "    Args:\n",
    "        in_channels: The number of channels (feature maps) of the incoming embedding\n",
    "        out_channels: The number of channels after the first layer\n",
    "        stride: Stride size of the first layer, used for downsampling\n",
    "        num_blocks: Number of residual blocks\n",
    "    \"\"\"\n",
    "    \n",
    "    def __init__(self, in_channels, out_channels, stride, num_blocks):\n",
    "        super().__init__()\n",
    "        \n",
    "        # TODO: Initialize the required layers (blocks)\n",
    "        self.blocks=num_blocks\n",
    "        self.ress1=ResidualBlock(in_channels,out_channels,stride=stride)\n",
    "        self.ress= nn.ModuleList ([ResidualBlock(out_channels,out_channels,stride=1) for i in range(num_blocks-1)])\n",
    "    def forward(self, input):\n",
    "        # TODO: Execute the layers (blocks)\n",
    "        xb=self.ress1.forward(input)\n",
    "        for model in self.ress:\n",
    "            xb=model(xb)\n",
    "        return xb"
   ]
  },
  {
   "cell_type": "markdown",
   "metadata": {
    "id": "xahirboKNe1d"
   },
   "source": [
    "Now we are finally ready to implement the full model! To do this, use the `nn.Sequential` API and carefully read the following paragraph from the paper (Fig. 3 is not important):\n",
    "\n",
    "![ResNet CIFAR10 description](img/resnet_cifar10_description.png)\n",
    "\n",
    "Note that a convolution layer is always convolution + batch norm + activation (ReLU), that each ResidualBlock contains 2 layers, and that you might have to `squeeze` the embedding before the dense (fully-connected) layer."
   ]
  },
  {
   "cell_type": "code",
   "execution_count": 65,
   "metadata": {
    "id": "hePwoAkMNe1d"
   },
   "outputs": [],
   "source": [
    "n = 5\n",
    "num_classes = 10\n",
    "\n",
    "# TODO: Implement ResNet via nn.Sequential\n",
    "resnet=nn.Sequential(\n",
    "    nn.Conv2d(3, 16, kernel_size=3, stride=1, padding=1,bias=False),\n",
    "    nn.BatchNorm2d(16),\n",
    "    nn.ReLU(),\n",
    "    ResidualStack(16,16,1,2*n),\n",
    "    ResidualStack(16,32,2,2*n),\n",
    "    ResidualStack(32,64,2,2*n),\n",
    "    torch.nn.AdaptiveAvgPool2d(1),\n",
    "    Lambda(lambda x: x.view(x.size(0), -1)),\n",
    "    nn.Linear(64,num_classes),\n",
    ")"
   ]
  },
  {
   "cell_type": "markdown",
   "metadata": {
    "id": "USFYqDSZNe1d"
   },
   "source": [
    "Next we need to initialize the weights of our model."
   ]
  },
  {
   "cell_type": "code",
   "execution_count": 66,
   "metadata": {
    "id": "g2Vmi9voNe1d"
   },
   "outputs": [],
   "source": [
    "def initialize_weight(module):\n",
    "    if isinstance(module, (nn.Linear, nn.Conv2d)):\n",
    "        nn.init.kaiming_normal_(module.weight, nonlinearity='relu')\n",
    "    elif isinstance(module, nn.BatchNorm2d):\n",
    "        nn.init.constant_(module.weight, 1)\n",
    "        nn.init.constant_(module.bias, 0)\n",
    "        \n",
    "resnet.apply(initialize_weight);"
   ]
  },
  {
   "cell_type": "markdown",
   "metadata": {
    "id": "ClisFN-VNe1e"
   },
   "source": [
    "# 4. Training\n",
    "So now we have a shiny new model, but that doesn't really help when we can't train it. So that's what we do next.\n",
    "\n",
    "First we need to load the data. Note that we split the official training data into train and validation sets, because you must not look at the test set until you are completely done developing your model and report the final results. Some people don't do this properly, but you should not copy other people's bad habits."
   ]
  },
  {
   "cell_type": "code",
   "execution_count": 67,
   "metadata": {
    "id": "OzfKWsAPNe1e"
   },
   "outputs": [],
   "source": [
    "class CIFAR10Subset(torchvision.datasets.CIFAR10):\n",
    "    \"\"\"\n",
    "    Get a subset of the CIFAR10 dataset, according to the passed indices.\n",
    "    \"\"\"\n",
    "    def __init__(self, *args, idx=None, **kwargs):\n",
    "        super().__init__(*args, **kwargs)\n",
    "        \n",
    "        if idx is None:\n",
    "            return\n",
    "        \n",
    "        self.data = self.data[idx]\n",
    "        targets_np = np.array(self.targets)\n",
    "        self.targets = targets_np[idx].tolist()"
   ]
  },
  {
   "cell_type": "markdown",
   "metadata": {
    "id": "QrzsOniWNe1e"
   },
   "source": [
    "We next define transformations that change the images into PyTorch tensors, standardize the values according to the precomputed mean and standard deviation, and provide data augmentation for the training set."
   ]
  },
  {
   "cell_type": "code",
   "execution_count": 68,
   "metadata": {
    "id": "C14fPeeGNe1e"
   },
   "outputs": [],
   "source": [
    "normalize = transforms.Normalize(mean=[0.485, 0.456, 0.406],\n",
    "                                 std=[0.229, 0.224, 0.225])\n",
    "transform_train = transforms.Compose([\n",
    "    transforms.RandomHorizontalFlip(),\n",
    "    transforms.RandomCrop(32, 4),\n",
    "    transforms.ToTensor(),\n",
    "    normalize,\n",
    "])\n",
    "transform_eval = transforms.Compose([\n",
    "    transforms.ToTensor(),\n",
    "    normalize\n",
    "])"
   ]
  },
  {
   "cell_type": "code",
   "execution_count": 69,
   "metadata": {
    "colab": {
     "base_uri": "https://localhost:8080/"
    },
    "id": "yjQ15ctSNe1f",
    "outputId": "eca65dad-fe98-4e08-9964-deff7e4c0e7a"
   },
   "outputs": [
    {
     "name": "stdout",
     "output_type": "stream",
     "text": [
      "Files already downloaded and verified\n",
      "Files already downloaded and verified\n",
      "Files already downloaded and verified\n"
     ]
    }
   ],
   "source": [
    "ntrain = 45_000\n",
    "train_set = CIFAR10Subset(root='./data', train=True, idx=range(ntrain),\n",
    "                          download=True, transform=transform_train)\n",
    "val_set = CIFAR10Subset(root='./data', train=True, idx=range(ntrain, 50_000),\n",
    "                        download=True, transform=transform_eval)\n",
    "test_set = torchvision.datasets.CIFAR10(root='./data', train=False,\n",
    "                                        download=True, transform=transform_eval)"
   ]
  },
  {
   "cell_type": "code",
   "execution_count": 70,
   "metadata": {
    "id": "7v_R-CrONe1f"
   },
   "outputs": [],
   "source": [
    "dataloaders = {}\n",
    "dataloaders['train'] = torch.utils.data.DataLoader(train_set, batch_size=128,\n",
    "                                                   shuffle=True, num_workers=2,\n",
    "                                                   pin_memory=True)\n",
    "dataloaders['val'] = torch.utils.data.DataLoader(val_set, batch_size=128,\n",
    "                                                 shuffle=False, num_workers=2,\n",
    "                                                 pin_memory=True)\n",
    "dataloaders['test'] = torch.utils.data.DataLoader(test_set, batch_size=128,\n",
    "                                                  shuffle=False, num_workers=2,\n",
    "                                                  pin_memory=True)"
   ]
  },
  {
   "cell_type": "markdown",
   "metadata": {
    "id": "jeLjsy49Ne1f"
   },
   "source": [
    "Next we push the model to our GPU (if there is one)."
   ]
  },
  {
   "cell_type": "code",
   "execution_count": 71,
   "metadata": {
    "id": "JCmD5Oh7Ne1g"
   },
   "outputs": [],
   "source": [
    "device = torch.device('cuda') if torch.cuda.is_available() else torch.device('cpu')\n",
    "resnet.to(device);"
   ]
  },
  {
   "cell_type": "markdown",
   "metadata": {
    "id": "bsSDSaUZNe1g"
   },
   "source": [
    "Next we define a helper method that does one epoch of training or evaluation. We have only defined training here, so you need to implement the necessary changes for evaluation!"
   ]
  },
  {
   "cell_type": "code",
   "execution_count": 72,
   "metadata": {
    "id": "Mvhc2Qa4Ne1g"
   },
   "outputs": [],
   "source": [
    "def run_epoch(model, optimizer, dataloader, train):\n",
    "    \"\"\"\n",
    "    Run one epoch of training or evaluation.\n",
    "    \n",
    "    Args:\n",
    "        model: The model used for prediction\n",
    "        optimizer: Optimization algorithm for the model\n",
    "        dataloader: Dataloader providing the data to run our model on\n",
    "        train: Whether this epoch is used for training or evaluation\n",
    "        \n",
    "    Returns:\n",
    "        Loss and accuracy in this epoch.\n",
    "    \"\"\"\n",
    "    # TODO: Change the necessary parts to work correctly during evaluation (train=False)\n",
    "    \n",
    "    device = next(model.parameters()).device\n",
    "    \n",
    "    # Set model to training mode (for e.g. batch normalization, dropout)\n",
    "    if train==True:\n",
    "        model.train()\n",
    "\n",
    "        epoch_loss = 0.0\n",
    "        epoch_acc = 0.0\n",
    "\n",
    "        # Iterate over data\n",
    "        for xb, yb in dataloader:\n",
    "            xb, yb = xb.to(device), yb.to(device)\n",
    "\n",
    "            # zero the parameter gradients\n",
    "            optimizer.zero_grad()\n",
    "\n",
    "            # forward\n",
    "            with torch.set_grad_enabled(True):\n",
    "                pred = model(xb)\n",
    "                loss = F.cross_entropy(pred, yb)\n",
    "                top1 = torch.argmax(pred, dim=1)\n",
    "                ncorrect = torch.sum(top1 == yb)\n",
    "\n",
    "                loss.backward()\n",
    "                optimizer.step()\n",
    "\n",
    "            # statistics\n",
    "            epoch_loss += loss.item()\n",
    "            epoch_acc += ncorrect.item()\n",
    "\n",
    "        epoch_loss /= len(dataloader.dataset)\n",
    "        epoch_acc /= len(dataloader.dataset)\n",
    "        # Set model to evaluation mode\n",
    "    else:\n",
    "        model.eval()\n",
    "        epoch_loss = 0.0\n",
    "        epoch_acc = 0.0\n",
    "        for xb, yb in dataloader:\n",
    "            xb, yb = xb.to(device), yb.to(device)\n",
    "            pred = model(xb)\n",
    "            loss = F.cross_entropy(pred, yb)\n",
    "            top1 = torch.argmax(pred, dim=1)\n",
    "            ncorrect = torch.sum(top1 == yb)\n",
    "            epoch_loss += loss.item()\n",
    "            epoch_acc += ncorrect.item()\n",
    "\n",
    "        epoch_loss /= len(dataloader.dataset)\n",
    "        epoch_acc /= len(dataloader.dataset)\n",
    "    return epoch_loss, epoch_acc"
   ]
  },
  {
   "cell_type": "markdown",
   "metadata": {
    "id": "HMt2SVuNNe1g"
   },
   "source": [
    "Next we implement a method for fitting (training) our model. For many models early stopping can save a lot of training time. Your task is to add early stopping to the loop (based on validation accuracy). Early stopping usually means exiting the training loop if the validation accuracy hasn't improved for `patience` number of steps. Don't forget to save the best model parameters according to validation accuracy. You will need `copy.deepcopy` and the `state_dict` for this."
   ]
  },
  {
   "cell_type": "code",
   "execution_count": 73,
   "metadata": {
    "id": "h8cxYNd3Ne1g"
   },
   "outputs": [],
   "source": [
    "def fit(model, optimizer, lr_scheduler, dataloaders, max_epochs, patience):\n",
    "    \"\"\"\n",
    "    Fit the given model on the dataset.\n",
    "    \n",
    "    Args:\n",
    "        model: The model used for prediction\n",
    "        optimizer: Optimization algorithm for the model\n",
    "        lr_scheduler: Learning rate scheduler that improves training\n",
    "                      in late epochs with learning rate decay\n",
    "        dataloaders: Dataloaders for training and validation\n",
    "        max_epochs: Maximum number of epochs for training\n",
    "        patience: Number of epochs to wait with early stopping the\n",
    "                  training if validation loss has decreased\n",
    "                  \n",
    "    Returns:\n",
    "        Loss and accuracy in this epoch.\n",
    "    \"\"\"\n",
    "    \n",
    "    best_acc = 0\n",
    "    curr_patience = 0\n",
    "    \n",
    "    for epoch in range(max_epochs):\n",
    "        train_loss, train_acc = run_epoch(model, optimizer, dataloaders['train'], train=True)\n",
    "        lr_scheduler.step()\n",
    "        print(f\"Epoch {epoch + 1: >3}/{max_epochs}, train loss: {train_loss:.2e}, accuracy: {train_acc * 100:.2f}%\")\n",
    "        \n",
    "        val_loss, val_acc = run_epoch(model, None, dataloaders['val'], train=False)\n",
    "        print(f\"Epoch {epoch + 1: >3}/{max_epochs}, val loss: {val_loss:.2e}, accuracy: {val_acc * 100:.2f}%\")\n",
    "        \n",
    "        # TODO: Add early stopping and save the best weights (in best_model_weights)\n",
    "        if val_acc <= best_acc:\n",
    "            curr_patience+=1\n",
    "        else:\n",
    "            best_acc = val_acc\n",
    "            curr_patience = 0\n",
    "            best_model_weights=copy.deepcopy(model.state_dict())\n",
    "        if curr_patience == patience:\n",
    "            print(\"Early stopping\")\n",
    "            break\n",
    "    model.load_state_dict(best_model_weights)"
   ]
  },
  {
   "cell_type": "markdown",
   "metadata": {
    "id": "r9XeVSDmNe1h"
   },
   "source": [
    "In most cases you should just use the Adam optimizer for training, because it works well out of the box. However, a well-tuned SGD (with momentum) will in most cases outperform Adam. And since the original paper gives us a well-tuned SGD we will just use that."
   ]
  },
  {
   "cell_type": "code",
   "execution_count": 74,
   "metadata": {
    "colab": {
     "base_uri": "https://localhost:8080/"
    },
    "id": "O9FjskZyNe1h",
    "outputId": "21c7de41-8998-4032-b90d-106e3ffb8c84"
   },
   "outputs": [
    {
     "name": "stdout",
     "output_type": "stream",
     "text": [
      "Epoch   1/200, train loss: 1.85e-02, accuracy: 18.43%\n",
      "Epoch   1/200, val loss: 1.55e-02, accuracy: 27.52%\n",
      "Epoch   2/200, train loss: 1.42e-02, accuracy: 30.53%\n",
      "Epoch   2/200, val loss: 1.34e-02, accuracy: 36.08%\n",
      "Epoch   3/200, train loss: 1.27e-02, accuracy: 39.53%\n",
      "Epoch   3/200, val loss: 1.21e-02, accuracy: 43.16%\n",
      "Epoch   4/200, train loss: 1.09e-02, accuracy: 49.46%\n",
      "Epoch   4/200, val loss: 9.67e-03, accuracy: 57.60%\n",
      "Epoch   5/200, train loss: 9.25e-03, accuracy: 57.99%\n",
      "Epoch   5/200, val loss: 9.69e-03, accuracy: 58.06%\n",
      "Epoch   6/200, train loss: 8.17e-03, accuracy: 63.28%\n",
      "Epoch   6/200, val loss: 8.30e-03, accuracy: 64.30%\n",
      "Epoch   7/200, train loss: 7.50e-03, accuracy: 66.48%\n",
      "Epoch   7/200, val loss: 8.04e-03, accuracy: 66.32%\n",
      "Epoch   8/200, train loss: 6.95e-03, accuracy: 68.85%\n",
      "Epoch   8/200, val loss: 7.42e-03, accuracy: 68.98%\n",
      "Epoch   9/200, train loss: 6.57e-03, accuracy: 70.64%\n",
      "Epoch   9/200, val loss: 7.47e-03, accuracy: 69.04%\n",
      "Epoch  10/200, train loss: 6.20e-03, accuracy: 72.40%\n",
      "Epoch  10/200, val loss: 6.18e-03, accuracy: 73.50%\n",
      "Epoch  11/200, train loss: 5.84e-03, accuracy: 74.10%\n",
      "Epoch  11/200, val loss: 6.87e-03, accuracy: 71.04%\n",
      "Epoch  12/200, train loss: 5.48e-03, accuracy: 75.57%\n",
      "Epoch  12/200, val loss: 6.16e-03, accuracy: 73.40%\n",
      "Epoch  13/200, train loss: 5.19e-03, accuracy: 76.90%\n",
      "Epoch  13/200, val loss: 5.62e-03, accuracy: 77.66%\n",
      "Epoch  14/200, train loss: 4.87e-03, accuracy: 78.34%\n",
      "Epoch  14/200, val loss: 5.75e-03, accuracy: 76.16%\n",
      "Epoch  15/200, train loss: 4.63e-03, accuracy: 79.61%\n",
      "Epoch  15/200, val loss: 5.41e-03, accuracy: 78.48%\n",
      "Epoch  16/200, train loss: 4.43e-03, accuracy: 80.31%\n",
      "Epoch  16/200, val loss: 6.00e-03, accuracy: 77.04%\n",
      "Epoch  17/200, train loss: 4.31e-03, accuracy: 80.87%\n",
      "Epoch  17/200, val loss: 5.90e-03, accuracy: 77.40%\n",
      "Epoch  18/200, train loss: 4.18e-03, accuracy: 81.51%\n",
      "Epoch  18/200, val loss: 5.42e-03, accuracy: 78.62%\n",
      "Epoch  19/200, train loss: 4.06e-03, accuracy: 82.03%\n",
      "Epoch  19/200, val loss: 5.13e-03, accuracy: 79.46%\n",
      "Epoch  20/200, train loss: 3.94e-03, accuracy: 82.45%\n",
      "Epoch  20/200, val loss: 4.99e-03, accuracy: 78.70%\n",
      "Epoch  21/200, train loss: 3.86e-03, accuracy: 83.00%\n",
      "Epoch  21/200, val loss: 5.45e-03, accuracy: 77.56%\n",
      "Epoch  22/200, train loss: 3.72e-03, accuracy: 83.41%\n",
      "Epoch  22/200, val loss: 5.91e-03, accuracy: 78.00%\n",
      "Epoch  23/200, train loss: 3.66e-03, accuracy: 83.68%\n",
      "Epoch  23/200, val loss: 4.75e-03, accuracy: 81.50%\n",
      "Epoch  24/200, train loss: 3.53e-03, accuracy: 84.26%\n",
      "Epoch  24/200, val loss: 4.97e-03, accuracy: 79.96%\n",
      "Epoch  25/200, train loss: 3.48e-03, accuracy: 84.57%\n",
      "Epoch  25/200, val loss: 4.80e-03, accuracy: 81.68%\n",
      "Epoch  26/200, train loss: 3.41e-03, accuracy: 84.73%\n",
      "Epoch  26/200, val loss: 5.22e-03, accuracy: 79.58%\n",
      "Epoch  27/200, train loss: 3.28e-03, accuracy: 85.40%\n",
      "Epoch  27/200, val loss: 4.81e-03, accuracy: 81.08%\n",
      "Epoch  28/200, train loss: 3.25e-03, accuracy: 85.41%\n",
      "Epoch  28/200, val loss: 5.42e-03, accuracy: 78.94%\n",
      "Epoch  29/200, train loss: 3.18e-03, accuracy: 85.97%\n",
      "Epoch  29/200, val loss: 4.98e-03, accuracy: 81.10%\n",
      "Epoch  30/200, train loss: 3.12e-03, accuracy: 86.21%\n",
      "Epoch  30/200, val loss: 5.67e-03, accuracy: 79.50%\n",
      "Epoch  31/200, train loss: 3.10e-03, accuracy: 86.18%\n",
      "Epoch  31/200, val loss: 4.32e-03, accuracy: 82.96%\n",
      "Epoch  32/200, train loss: 3.02e-03, accuracy: 86.63%\n",
      "Epoch  32/200, val loss: 4.55e-03, accuracy: 82.28%\n",
      "Epoch  33/200, train loss: 2.93e-03, accuracy: 87.06%\n",
      "Epoch  33/200, val loss: 6.06e-03, accuracy: 78.66%\n",
      "Epoch  34/200, train loss: 2.93e-03, accuracy: 86.89%\n",
      "Epoch  34/200, val loss: 4.50e-03, accuracy: 82.86%\n",
      "Epoch  35/200, train loss: 2.89e-03, accuracy: 87.09%\n",
      "Epoch  35/200, val loss: 5.08e-03, accuracy: 80.48%\n",
      "Epoch  36/200, train loss: 2.76e-03, accuracy: 87.61%\n",
      "Epoch  36/200, val loss: 5.42e-03, accuracy: 80.22%\n",
      "Epoch  37/200, train loss: 2.79e-03, accuracy: 87.52%\n",
      "Epoch  37/200, val loss: 4.38e-03, accuracy: 82.76%\n",
      "Epoch  38/200, train loss: 2.74e-03, accuracy: 87.81%\n",
      "Epoch  38/200, val loss: 4.50e-03, accuracy: 82.80%\n",
      "Epoch  39/200, train loss: 2.67e-03, accuracy: 88.20%\n",
      "Epoch  39/200, val loss: 5.44e-03, accuracy: 79.22%\n",
      "Epoch  40/200, train loss: 2.65e-03, accuracy: 88.20%\n",
      "Epoch  40/200, val loss: 4.86e-03, accuracy: 81.66%\n",
      "Epoch  41/200, train loss: 2.60e-03, accuracy: 88.28%\n",
      "Epoch  41/200, val loss: 4.18e-03, accuracy: 83.86%\n",
      "Epoch  42/200, train loss: 2.60e-03, accuracy: 88.38%\n",
      "Epoch  42/200, val loss: 4.12e-03, accuracy: 84.34%\n",
      "Epoch  43/200, train loss: 2.48e-03, accuracy: 88.99%\n",
      "Epoch  43/200, val loss: 4.86e-03, accuracy: 81.78%\n",
      "Epoch  44/200, train loss: 2.48e-03, accuracy: 88.98%\n",
      "Epoch  44/200, val loss: 4.01e-03, accuracy: 85.04%\n",
      "Epoch  45/200, train loss: 2.42e-03, accuracy: 89.37%\n",
      "Epoch  45/200, val loss: 5.24e-03, accuracy: 81.48%\n",
      "Epoch  46/200, train loss: 2.43e-03, accuracy: 89.37%\n",
      "Epoch  46/200, val loss: 4.76e-03, accuracy: 81.96%\n",
      "Epoch  47/200, train loss: 2.34e-03, accuracy: 89.60%\n",
      "Epoch  47/200, val loss: 4.00e-03, accuracy: 84.98%\n",
      "Epoch  48/200, train loss: 2.36e-03, accuracy: 89.40%\n",
      "Epoch  48/200, val loss: 4.59e-03, accuracy: 83.18%\n",
      "Epoch  49/200, train loss: 2.33e-03, accuracy: 89.69%\n",
      "Epoch  49/200, val loss: 5.64e-03, accuracy: 79.42%\n",
      "Epoch  50/200, train loss: 2.32e-03, accuracy: 89.60%\n",
      "Epoch  50/200, val loss: 5.15e-03, accuracy: 80.96%\n",
      "Epoch  51/200, train loss: 2.29e-03, accuracy: 89.77%\n",
      "Epoch  51/200, val loss: 4.12e-03, accuracy: 83.88%\n",
      "Epoch  52/200, train loss: 2.22e-03, accuracy: 90.15%\n",
      "Epoch  52/200, val loss: 4.82e-03, accuracy: 82.20%\n",
      "Epoch  53/200, train loss: 2.17e-03, accuracy: 90.22%\n",
      "Epoch  53/200, val loss: 3.71e-03, accuracy: 85.86%\n",
      "Epoch  54/200, train loss: 2.26e-03, accuracy: 89.77%\n",
      "Epoch  54/200, val loss: 3.59e-03, accuracy: 85.24%\n",
      "Epoch  55/200, train loss: 2.15e-03, accuracy: 90.47%\n",
      "Epoch  55/200, val loss: 4.60e-03, accuracy: 84.08%\n",
      "Epoch  56/200, train loss: 2.15e-03, accuracy: 90.47%\n",
      "Epoch  56/200, val loss: 4.74e-03, accuracy: 83.74%\n",
      "Epoch  57/200, train loss: 2.12e-03, accuracy: 90.53%\n",
      "Epoch  57/200, val loss: 4.68e-03, accuracy: 84.28%\n",
      "Epoch  58/200, train loss: 2.13e-03, accuracy: 90.63%\n",
      "Epoch  58/200, val loss: 3.95e-03, accuracy: 84.84%\n",
      "Epoch  59/200, train loss: 2.11e-03, accuracy: 90.54%\n",
      "Epoch  59/200, val loss: 5.20e-03, accuracy: 82.62%\n",
      "Epoch  60/200, train loss: 2.06e-03, accuracy: 90.74%\n",
      "Epoch  60/200, val loss: 3.82e-03, accuracy: 85.72%\n",
      "Epoch  61/200, train loss: 2.08e-03, accuracy: 90.70%\n",
      "Epoch  61/200, val loss: 4.42e-03, accuracy: 84.40%\n",
      "Epoch  62/200, train loss: 2.03e-03, accuracy: 90.88%\n",
      "Epoch  62/200, val loss: 3.92e-03, accuracy: 85.44%\n",
      "Epoch  63/200, train loss: 2.00e-03, accuracy: 91.03%\n",
      "Epoch  63/200, val loss: 3.88e-03, accuracy: 85.88%\n",
      "Epoch  64/200, train loss: 1.98e-03, accuracy: 91.18%\n",
      "Epoch  64/200, val loss: 4.21e-03, accuracy: 84.00%\n",
      "Epoch  65/200, train loss: 1.98e-03, accuracy: 91.22%\n",
      "Epoch  65/200, val loss: 5.08e-03, accuracy: 81.98%\n",
      "Epoch  66/200, train loss: 1.96e-03, accuracy: 91.30%\n",
      "Epoch  66/200, val loss: 3.65e-03, accuracy: 86.54%\n",
      "Epoch  67/200, train loss: 1.93e-03, accuracy: 91.24%\n",
      "Epoch  67/200, val loss: 4.23e-03, accuracy: 84.72%\n",
      "Epoch  68/200, train loss: 1.93e-03, accuracy: 91.27%\n",
      "Epoch  68/200, val loss: 3.81e-03, accuracy: 85.44%\n",
      "Epoch  69/200, train loss: 1.91e-03, accuracy: 91.48%\n",
      "Epoch  69/200, val loss: 3.70e-03, accuracy: 86.34%\n",
      "Epoch  70/200, train loss: 1.94e-03, accuracy: 91.32%\n",
      "Epoch  70/200, val loss: 4.62e-03, accuracy: 83.42%\n",
      "Epoch  71/200, train loss: 1.86e-03, accuracy: 91.66%\n",
      "Epoch  71/200, val loss: 3.97e-03, accuracy: 86.22%\n",
      "Epoch  72/200, train loss: 1.90e-03, accuracy: 91.65%\n",
      "Epoch  72/200, val loss: 4.29e-03, accuracy: 84.42%\n",
      "Epoch  73/200, train loss: 1.88e-03, accuracy: 91.61%\n",
      "Epoch  73/200, val loss: 4.72e-03, accuracy: 84.52%\n",
      "Epoch  74/200, train loss: 1.87e-03, accuracy: 91.72%\n",
      "Epoch  74/200, val loss: 4.56e-03, accuracy: 83.00%\n",
      "Epoch  75/200, train loss: 1.82e-03, accuracy: 91.85%\n",
      "Epoch  75/200, val loss: 4.07e-03, accuracy: 85.00%\n",
      "Epoch  76/200, train loss: 1.85e-03, accuracy: 91.54%\n",
      "Epoch  76/200, val loss: 4.30e-03, accuracy: 84.64%\n",
      "Epoch  77/200, train loss: 1.86e-03, accuracy: 91.74%\n",
      "Epoch  77/200, val loss: 4.04e-03, accuracy: 85.34%\n",
      "Epoch  78/200, train loss: 1.80e-03, accuracy: 91.98%\n",
      "Epoch  78/200, val loss: 4.52e-03, accuracy: 84.18%\n",
      "Epoch  79/200, train loss: 1.77e-03, accuracy: 92.14%\n",
      "Epoch  79/200, val loss: 3.58e-03, accuracy: 87.16%\n",
      "Epoch  80/200, train loss: 1.79e-03, accuracy: 91.98%\n",
      "Epoch  80/200, val loss: 4.08e-03, accuracy: 85.46%\n",
      "Epoch  81/200, train loss: 1.83e-03, accuracy: 91.76%\n",
      "Epoch  81/200, val loss: 3.86e-03, accuracy: 85.72%\n",
      "Epoch  82/200, train loss: 1.75e-03, accuracy: 92.13%\n",
      "Epoch  82/200, val loss: 4.17e-03, accuracy: 85.66%\n",
      "Epoch  83/200, train loss: 1.71e-03, accuracy: 92.32%\n",
      "Epoch  83/200, val loss: 3.26e-03, accuracy: 88.00%\n",
      "Epoch  84/200, train loss: 1.75e-03, accuracy: 92.09%\n",
      "Epoch  84/200, val loss: 3.88e-03, accuracy: 86.26%\n",
      "Epoch  85/200, train loss: 1.73e-03, accuracy: 92.39%\n",
      "Epoch  85/200, val loss: 4.12e-03, accuracy: 86.30%\n",
      "Epoch  86/200, train loss: 1.71e-03, accuracy: 92.32%\n",
      "Epoch  86/200, val loss: 3.69e-03, accuracy: 86.66%\n",
      "Epoch  87/200, train loss: 1.69e-03, accuracy: 92.46%\n",
      "Epoch  87/200, val loss: 3.49e-03, accuracy: 87.38%\n",
      "Epoch  88/200, train loss: 1.70e-03, accuracy: 92.42%\n",
      "Epoch  88/200, val loss: 3.60e-03, accuracy: 86.92%\n",
      "Epoch  89/200, train loss: 1.67e-03, accuracy: 92.34%\n",
      "Epoch  89/200, val loss: 3.28e-03, accuracy: 88.02%\n",
      "Epoch  90/200, train loss: 1.73e-03, accuracy: 92.41%\n",
      "Epoch  90/200, val loss: 3.78e-03, accuracy: 85.88%\n",
      "Epoch  91/200, train loss: 1.64e-03, accuracy: 92.67%\n",
      "Epoch  91/200, val loss: 4.03e-03, accuracy: 85.62%\n",
      "Epoch  92/200, train loss: 1.70e-03, accuracy: 92.34%\n",
      "Epoch  92/200, val loss: 4.53e-03, accuracy: 83.86%\n",
      "Epoch  93/200, train loss: 1.67e-03, accuracy: 92.47%\n",
      "Epoch  93/200, val loss: 3.59e-03, accuracy: 87.14%\n",
      "Epoch  94/200, train loss: 1.63e-03, accuracy: 92.75%\n",
      "Epoch  94/200, val loss: 3.99e-03, accuracy: 86.02%\n",
      "Epoch  95/200, train loss: 1.61e-03, accuracy: 92.69%\n",
      "Epoch  95/200, val loss: 4.07e-03, accuracy: 85.86%\n",
      "Epoch  96/200, train loss: 1.63e-03, accuracy: 92.64%\n",
      "Epoch  96/200, val loss: 4.02e-03, accuracy: 85.88%\n",
      "Epoch  97/200, train loss: 1.68e-03, accuracy: 92.50%\n",
      "Epoch  97/200, val loss: 3.25e-03, accuracy: 87.60%\n",
      "Epoch  98/200, train loss: 1.61e-03, accuracy: 92.73%\n",
      "Epoch  98/200, val loss: 4.23e-03, accuracy: 85.30%\n",
      "Epoch  99/200, train loss: 1.65e-03, accuracy: 92.75%\n",
      "Epoch  99/200, val loss: 3.84e-03, accuracy: 86.22%\n",
      "Epoch 100/200, train loss: 1.64e-03, accuracy: 92.75%\n",
      "Epoch 100/200, val loss: 3.57e-03, accuracy: 86.46%\n",
      "Epoch 101/200, train loss: 9.06e-04, accuracy: 96.08%\n",
      "Epoch 101/200, val loss: 2.43e-03, accuracy: 91.18%\n",
      "Epoch 102/200, train loss: 6.64e-04, accuracy: 97.19%\n",
      "Epoch 102/200, val loss: 2.42e-03, accuracy: 91.52%\n",
      "Epoch 103/200, train loss: 5.59e-04, accuracy: 97.60%\n",
      "Epoch 103/200, val loss: 2.51e-03, accuracy: 91.78%\n",
      "Epoch 104/200, train loss: 4.95e-04, accuracy: 97.86%\n",
      "Epoch 104/200, val loss: 2.56e-03, accuracy: 91.70%\n",
      "Epoch 105/200, train loss: 4.68e-04, accuracy: 97.98%\n",
      "Epoch 105/200, val loss: 2.50e-03, accuracy: 92.20%\n",
      "Epoch 106/200, train loss: 4.11e-04, accuracy: 98.20%\n",
      "Epoch 106/200, val loss: 2.61e-03, accuracy: 91.76%\n",
      "Epoch 107/200, train loss: 3.76e-04, accuracy: 98.38%\n",
      "Epoch 107/200, val loss: 2.69e-03, accuracy: 91.70%\n",
      "Epoch 108/200, train loss: 3.73e-04, accuracy: 98.39%\n",
      "Epoch 108/200, val loss: 2.80e-03, accuracy: 91.78%\n",
      "Epoch 109/200, train loss: 3.35e-04, accuracy: 98.57%\n",
      "Epoch 109/200, val loss: 2.83e-03, accuracy: 92.00%\n",
      "Epoch 110/200, train loss: 3.09e-04, accuracy: 98.62%\n",
      "Epoch 110/200, val loss: 2.86e-03, accuracy: 91.84%\n",
      "Epoch 111/200, train loss: 3.24e-04, accuracy: 98.60%\n",
      "Epoch 111/200, val loss: 3.04e-03, accuracy: 91.98%\n",
      "Epoch 112/200, train loss: 3.04e-04, accuracy: 98.73%\n",
      "Epoch 112/200, val loss: 2.95e-03, accuracy: 92.06%\n",
      "Epoch 113/200, train loss: 2.75e-04, accuracy: 98.82%\n",
      "Epoch 113/200, val loss: 2.87e-03, accuracy: 91.94%\n",
      "Epoch 114/200, train loss: 2.60e-04, accuracy: 98.87%\n",
      "Epoch 114/200, val loss: 2.99e-03, accuracy: 92.00%\n",
      "Epoch 115/200, train loss: 2.57e-04, accuracy: 98.88%\n",
      "Epoch 115/200, val loss: 2.98e-03, accuracy: 91.84%\n",
      "Epoch 116/200, train loss: 2.43e-04, accuracy: 98.95%\n",
      "Epoch 116/200, val loss: 3.06e-03, accuracy: 91.46%\n",
      "Epoch 117/200, train loss: 2.27e-04, accuracy: 99.07%\n",
      "Epoch 117/200, val loss: 3.03e-03, accuracy: 91.70%\n",
      "Epoch 118/200, train loss: 2.26e-04, accuracy: 99.03%\n",
      "Epoch 118/200, val loss: 3.15e-03, accuracy: 91.62%\n",
      "Epoch 119/200, train loss: 2.08e-04, accuracy: 99.11%\n",
      "Epoch 119/200, val loss: 3.16e-03, accuracy: 91.62%\n",
      "Epoch 120/200, train loss: 1.92e-04, accuracy: 99.22%\n",
      "Epoch 120/200, val loss: 3.14e-03, accuracy: 91.92%\n",
      "Epoch 121/200, train loss: 2.11e-04, accuracy: 99.14%\n",
      "Epoch 121/200, val loss: 3.11e-03, accuracy: 91.78%\n",
      "Epoch 122/200, train loss: 1.80e-04, accuracy: 99.26%\n",
      "Epoch 122/200, val loss: 3.20e-03, accuracy: 91.46%\n",
      "Epoch 123/200, train loss: 1.98e-04, accuracy: 99.14%\n",
      "Epoch 123/200, val loss: 3.14e-03, accuracy: 91.58%\n",
      "Epoch 124/200, train loss: 1.85e-04, accuracy: 99.23%\n",
      "Epoch 124/200, val loss: 3.23e-03, accuracy: 91.66%\n",
      "Epoch 125/200, train loss: 1.77e-04, accuracy: 99.24%\n",
      "Epoch 125/200, val loss: 3.07e-03, accuracy: 91.84%\n",
      "Epoch 126/200, train loss: 1.63e-04, accuracy: 99.31%\n",
      "Epoch 126/200, val loss: 3.30e-03, accuracy: 91.84%\n",
      "Epoch 127/200, train loss: 1.50e-04, accuracy: 99.45%\n",
      "Epoch 127/200, val loss: 3.28e-03, accuracy: 91.86%\n",
      "Epoch 128/200, train loss: 1.46e-04, accuracy: 99.40%\n",
      "Epoch 128/200, val loss: 3.25e-03, accuracy: 92.02%\n",
      "Epoch 129/200, train loss: 1.64e-04, accuracy: 99.34%\n",
      "Epoch 129/200, val loss: 3.28e-03, accuracy: 91.74%\n",
      "Epoch 130/200, train loss: 1.42e-04, accuracy: 99.45%\n",
      "Epoch 130/200, val loss: 3.43e-03, accuracy: 91.96%\n",
      "Epoch 131/200, train loss: 1.53e-04, accuracy: 99.34%\n",
      "Epoch 131/200, val loss: 3.49e-03, accuracy: 91.28%\n",
      "Epoch 132/200, train loss: 1.44e-04, accuracy: 99.39%\n",
      "Epoch 132/200, val loss: 3.46e-03, accuracy: 91.94%\n",
      "Epoch 133/200, train loss: 1.36e-04, accuracy: 99.44%\n",
      "Epoch 133/200, val loss: 3.39e-03, accuracy: 92.16%\n",
      "Epoch 134/200, train loss: 1.31e-04, accuracy: 99.45%\n",
      "Epoch 134/200, val loss: 3.25e-03, accuracy: 92.02%\n",
      "Epoch 135/200, train loss: 1.44e-04, accuracy: 99.41%\n",
      "Epoch 135/200, val loss: 3.58e-03, accuracy: 91.72%\n",
      "Epoch 136/200, train loss: 1.39e-04, accuracy: 99.43%\n",
      "Epoch 136/200, val loss: 3.30e-03, accuracy: 91.90%\n",
      "Epoch 137/200, train loss: 1.27e-04, accuracy: 99.47%\n",
      "Epoch 137/200, val loss: 3.50e-03, accuracy: 91.50%\n",
      "Epoch 138/200, train loss: 1.35e-04, accuracy: 99.44%\n",
      "Epoch 138/200, val loss: 3.52e-03, accuracy: 91.66%\n",
      "Epoch 139/200, train loss: 1.18e-04, accuracy: 99.52%\n",
      "Epoch 139/200, val loss: 3.49e-03, accuracy: 91.70%\n",
      "Epoch 140/200, train loss: 1.32e-04, accuracy: 99.48%\n",
      "Epoch 140/200, val loss: 3.45e-03, accuracy: 91.98%\n",
      "Epoch 141/200, train loss: 1.17e-04, accuracy: 99.52%\n",
      "Epoch 141/200, val loss: 3.57e-03, accuracy: 91.66%\n",
      "Epoch 142/200, train loss: 1.28e-04, accuracy: 99.44%\n",
      "Epoch 142/200, val loss: 3.44e-03, accuracy: 91.82%\n",
      "Epoch 143/200, train loss: 1.21e-04, accuracy: 99.50%\n",
      "Epoch 143/200, val loss: 3.51e-03, accuracy: 91.74%\n",
      "Epoch 144/200, train loss: 1.11e-04, accuracy: 99.59%\n",
      "Epoch 144/200, val loss: 3.50e-03, accuracy: 91.62%\n",
      "Epoch 145/200, train loss: 1.15e-04, accuracy: 99.52%\n",
      "Epoch 145/200, val loss: 3.51e-03, accuracy: 91.74%\n",
      "Epoch 146/200, train loss: 1.14e-04, accuracy: 99.55%\n",
      "Epoch 146/200, val loss: 3.74e-03, accuracy: 91.42%\n",
      "Epoch 147/200, train loss: 1.15e-04, accuracy: 99.51%\n",
      "Epoch 147/200, val loss: 3.61e-03, accuracy: 91.96%\n",
      "Epoch 148/200, train loss: 1.11e-04, accuracy: 99.54%\n",
      "Epoch 148/200, val loss: 3.65e-03, accuracy: 91.88%\n",
      "Epoch 149/200, train loss: 1.08e-04, accuracy: 99.56%\n",
      "Epoch 149/200, val loss: 3.78e-03, accuracy: 91.68%\n",
      "Epoch 150/200, train loss: 1.08e-04, accuracy: 99.56%\n",
      "Epoch 150/200, val loss: 3.90e-03, accuracy: 91.46%\n",
      "Epoch 151/200, train loss: 8.80e-05, accuracy: 99.65%\n",
      "Epoch 151/200, val loss: 3.73e-03, accuracy: 91.88%\n",
      "Epoch 152/200, train loss: 7.29e-05, accuracy: 99.71%\n",
      "Epoch 152/200, val loss: 3.66e-03, accuracy: 91.90%\n",
      "Epoch 153/200, train loss: 7.44e-05, accuracy: 99.74%\n",
      "Epoch 153/200, val loss: 3.64e-03, accuracy: 91.98%\n",
      "Epoch 154/200, train loss: 6.37e-05, accuracy: 99.78%\n",
      "Epoch 154/200, val loss: 3.64e-03, accuracy: 92.12%\n",
      "Epoch 155/200, train loss: 6.84e-05, accuracy: 99.78%\n",
      "Epoch 155/200, val loss: 3.69e-03, accuracy: 91.90%\n",
      "Early stopping\n"
     ]
    }
   ],
   "source": [
    "optimizer = torch.optim.SGD(resnet.parameters(), lr=0.1, momentum=0.9, weight_decay=1e-4)\n",
    "lr_scheduler = torch.optim.lr_scheduler.MultiStepLR(optimizer, milestones=[100, 150], gamma=0.1)\n",
    "\n",
    "# Fit model\n",
    "fit(resnet, optimizer, lr_scheduler, dataloaders, max_epochs=200, patience=50)"
   ]
  },
  {
   "cell_type": "markdown",
   "metadata": {
    "id": "4lJnHBAWNe1h"
   },
   "source": [
    "Once the model is trained we run it on the test set to obtain our final accuracy.\n",
    "Note that we can only look at the test set once, everything else would lead to overfitting. So you _must_ ignore the test set while developing your model!"
   ]
  },
  {
   "cell_type": "code",
   "execution_count": 76,
   "metadata": {
    "colab": {
     "base_uri": "https://localhost:8080/"
    },
    "id": "uPYbQ6qANe1i",
    "outputId": "22222ab9-5543-4df5-97a7-50a43dbf7d81"
   },
   "outputs": [
    {
     "name": "stdout",
     "output_type": "stream",
     "text": [
      "Test loss: 2.6e-03, accuracy: 90.99%\n"
     ]
    }
   ],
   "source": [
    "test_loss, test_acc = run_epoch(resnet, None, dataloaders['test'], train=False)\n",
    "print(f\"Test loss: {test_loss:.1e}, accuracy: {test_acc * 100:.2f}%\")"
   ]
  },
  {
   "cell_type": "markdown",
   "metadata": {
    "id": "nyLOns4JNe1i"
   },
   "source": [
    "That's almost what was reported in the paper (92.49%) and we didn't even train on the full training set."
   ]
  },
  {
   "cell_type": "markdown",
   "metadata": {
    "id": "ssTB4SspNe1i"
   },
   "source": [
    "# Optional task: Squeeze out all the juice!"
   ]
  },
  {
   "cell_type": "markdown",
   "metadata": {
    "id": "sJ41-c6wNe1j"
   },
   "source": [
    "Can you do even better? Have a look at [A Recipe for Training Neural Networks](https://karpathy.github.io/2019/04/25/recipe/) and some state-of-the-art architectures such as [EfficientNet architecture](https://ai.googleblog.com/2019/05/efficientnet-improving-accuracy-and.html). Play around with the possibilities PyTorch offers you and see how close you can get to the [state of the art on CIFAR-10](https://paperswithcode.com/sota/image-classification-on-cifar-10)."
   ]
  }
 ],
 "metadata": {
  "accelerator": "GPU",
  "colab": {
   "collapsed_sections": [],
   "name": "exercise_08_notebook.ipynb",
   "provenance": []
  },
  "kernelspec": {
   "display_name": "Python 3",
   "language": "python",
   "name": "python3"
  },
  "language_info": {
   "codemirror_mode": {
    "name": "ipython",
    "version": 3
   },
   "file_extension": ".py",
   "mimetype": "text/x-python",
   "name": "python",
   "nbconvert_exporter": "python",
   "pygments_lexer": "ipython3",
   "version": "3.8.5"
  }
 },
 "nbformat": 4,
 "nbformat_minor": 1
}
